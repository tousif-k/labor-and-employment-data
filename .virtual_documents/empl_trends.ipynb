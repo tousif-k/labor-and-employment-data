import pandas as pd
import numpy as np
import matplotlib as mpl
import matplotlib.pyplot as plt
import plotly.offline as pyo
import plotly.graph_objs as go
import plotly.io as pio

mpl.style.use('dark_background')
pio.templates.default = 'plotly_dark'

empl_sector_per_file = 'datasets/share-of-employment-in-agriculture-industry-and-services.csv'
empl_sector_pop_file = 'datasets/employment-by-economic-sector.csv'
sector_gdp_file = 'datasets/composition-of-national-gross-domestic-product-by-sector.csv'
# nat_occ_file = 'datasets/oesm19nat/national_M2019_dl.xlsx'
nat_occ_20_file = 'datasets/oesm20nat/national_M2020_dl.xlsx'

empl_per = pd.read_csv(empl_sector_per_file)
empl_pop = pd.read_csv(empl_sector_pop_file)
sect_gdp = pd.read_csv(sector_gdp_file)
# nat_occ = pd.read_excel(nat_occ_file)
nat_occ = pd.read_excel(nat_occ_20_file)


empl_per.head()


empl_per.size


empl_per_usa = empl_per.loc[empl_per['Entity'] == 'United States'].copy()
empl_per_usa.head()


empl_per.columns


sectors = empl_per_usa.columns.values.tolist()[3:6]

data = [go.Scatter(x=empl_per_usa.Year, y=empl_per_usa[sector], mode='lines', name=sector.split()[2]) for sector in sectors]
layout = go.Layout(title='Employment % in agriculture, industry, and services')
fig = go.Figure(data=data,layout=layout)

pyo.iplot(fig)


empl_pop.head()


empl_pop_usa = empl_pop.loc[empl_pop['Entity'] == 'United States'].copy()
empl_pop_usa


sectors = empl_pop_usa.columns.values.tolist()[3:]

data = [go.Scatter(x=empl_pop_usa.Year, y=empl_pop_usa[sector], mode='lines', name=sector.split()[5]) for sector in sectors]
layout = go.Layout(title='Number of people employed in agriculture, industry, and services')
fig = go.Figure(data=data,layout=layout)

pyo.iplot(fig)


empl_pop.info()


sect_gdp_usa = sect_gdp[sect_gdp.Entity == 'United States']
sect_gdp_usa


sectors = sect_gdp_usa.columns.values.tolist()[3:]

data = [go.Scatter(x=sect_gdp_usa.Year, y=sect_gdp_usa[sector], mode='lines', name=sector.split()[2]) for sector in sectors]
layout = go.Layout(title='Share of US National GDP by the agriculture, industry, and services sectors')
fig = go.Figure(data=data,layout=layout)

pyo.iplot(fig)


nat_occ


nat_occ.info()


nat_occ = nat_occ.drop(['AREA', 'AREA_TITLE', 'AREA_TYPE', 'PRIM_STATE', 'NAICS', 'NAICS_TITLE', 'I_GROUP', 'OWN_CODE', 'OCC_CODE', 'ANNUAL', 'HOURLY'], axis=1)
nat_occ


nat_occ['TOT_EMP'] = pd.to_numeric(nat_occ['TOT_EMP'], errors='coerce')
nat_sort = nat_occ.sort_values(by=['TOT_EMP'], ascending=False)
nat_df = nat_sort[nat_sort.O_GROUP == 'detailed']
nat_df


nat_df.head(20)


nat_df_broad = nat_sort[nat_sort.O_GROUP == 'broad']
nat_df_broad


nat_df_broad.head(10)


nat_df_major = nat_sort[nat_sort.O_GROUP == 'major']
nat_df_major


nat_df_minor = nat_sort[nat_sort.O_GROUP == 'minor']
nat_df_minor


import plotly.express as px
fig = px.pie(nat_df_major, values='TOT_EMP', names='OCC_TITLE', title='Total Employment in Major Occupational Areas')
fig.show()


nat_df.info()


nat_df['H_MEAN'] = pd.to_numeric(nat_df['H_MEAN'], errors='coerce')
nat_df['A_MEAN'] = pd.to_numeric(nat_df['A_MEAN'], errors='coerce')
nat_df.info()


nat_df['H_MEDIAN'] = pd.to_numeric(nat_df['H_MEDIAN'], errors='coerce')
nat_df['A_MEDIAN'] = pd.to_numeric(nat_df['A_MEDIAN'], errors='coerce')


fig = px.bar(nat_df.head(50), 
             x='TOT_EMP', y='OCC_TITLE', 
             title='Total Employment in Top 50 Occupations', 
             orientation='h', 
             color='H_MEAN', 
             color_continuous_scale=px.colors.sequential.RdBu)
fig.update_xaxes(title='Total Employed')
fig.update_yaxes(title='Occupation Title') 
fig.show()


fig = px.bar(nat_df.head(50), 
             x='TOT_EMP', y='OCC_TITLE', 
             title='Total Employment in Top 50 Occupations', 
             orientation='h', 
             color='H_MEDIAN', 
             color_continuous_scale=px.colors.sequential.RdBu)
fig.update_xaxes(title='Total Employed')
fig.update_yaxes(title='Occupation Title') 
fig.show()



